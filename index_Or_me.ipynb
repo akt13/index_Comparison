{
 "cells": [
  {
   "cell_type": "code",
   "execution_count": null,
   "id": "a9795099",
   "metadata": {},
   "outputs": [],
   "source": [
    "import os\n",
    "import openpyxl\n",
    "import pandas as pd\n",
    "import yfinance as yf\n",
    "from glob import glob\n",
    "from datetime import timedelta, datetime"
   ]
  },
  {
   "cell_type": "code",
   "execution_count": null,
   "id": "f73cc711",
   "metadata": {},
   "outputs": [],
   "source": [
    "df = pd.DataFrame()\n",
    "require_cols = ['Symbol', 'Trade Date','Trade Type','Quantity','Price','Order ID','Order Execution Time']"
   ]
  },
  {
   "cell_type": "code",
   "execution_count": null,
   "id": "c93238a1",
   "metadata": {},
   "outputs": [],
   "source": [
    "for f in glob(\"zerodha_exports/tradebook-*.xlsx\"):\n",
    "    data = pd.read_excel(f, skiprows = 14, usecols = require_cols)\n",
    "    df = df.append(data,ignore_index=True)\n",
    "df.drop_duplicates('Order ID', inplace=True)\n",
    "df = df.drop(df[df['Trade Type'] == 'sell'].index)\n",
    "df.reset_index(inplace=True)\n",
    "holdings_file = glob((\"zerodha_exports/holdings-*.xlsx\"))\n",
    "wb = openpyxl.load_workbook(holdings_file[0])\n",
    "sh = wb.active\n",
    "invested_val = sh['C15'].value\n",
    "present_val = sh['C16'].value\n",
    "unrealised_percentage = sh['C18'].value"
   ]
  },
  {
   "cell_type": "code",
   "execution_count": null,
   "id": "322159e2",
   "metadata": {},
   "outputs": [],
   "source": [
    "def find_indexPrice(row):\n",
    "    tradeDate=str(row['Trade Date'])\n",
    "    ticker=row['Symbol'] +'.NS'\n",
    "    print(ticker)\n",
    "    format = '%Y-%m-%d'\n",
    "    start = datetime.strptime(tradeDate, format)\n",
    "    end = start + timedelta(days=1)\n",
    "    index_Price= yf.download('NIFTYBEES.NS',start,end)['Adj Close'].astype(int)\n",
    "    print(index_Price[0])\n",
    "    return index_Price[0]"
   ]
  },
  {
   "cell_type": "code",
   "execution_count": null,
   "id": "4a678ada",
   "metadata": {},
   "outputs": [],
   "source": [
    "index_ClosePrices,stock_LTP_Lst = [],[]\n",
    "for numb,row in df.iterrows():\n",
    "    index_Price = find_indexPrice(row)\n",
    "    index_ClosePrices.append(index_Price)\n",
    "df[\"index_ClosePrices\"] = index_ClosePrices "
   ]
  },
  {
   "cell_type": "code",
   "execution_count": null,
   "id": "1f2cb834",
   "metadata": {},
   "outputs": [],
   "source": [
    "LTP_index = yf.Ticker('NIFTYBEES.NS').history(period='1d')\n",
    "index_LTP = LTP_index['Close'][0]\n",
    "\n",
    "investVal_Lst,indexPnL_Lst = [],[]\n",
    "def find_PnL(row):\n",
    "    invest_Val = row['Price']*row['Quantity']\n",
    "    indexCurrent_Val = index_LTP*(invest_Val/row['index_ClosePrices'])\n",
    "    index_PnL = indexCurrent_Val - invest_Val\n",
    "    return invest_Val, index_PnL"
   ]
  },
  {
   "cell_type": "code",
   "execution_count": null,
   "id": "7a99609e",
   "metadata": {},
   "outputs": [],
   "source": [
    "for x,row in df.iterrows():\n",
    "    invest_Val, index_PnL = find_PnL(row)\n",
    "    investVal_Lst.append(invest_Val)\n",
    "    indexPnL_Lst.append(index_PnL)\n",
    "df[\"invest_Value\"] = investVal_Lst \n",
    "df[\"index_P&L\"] = indexPnL_Lst\n",
    "print(df)\n",
    "df.to_excel(\"output.xlsx\")"
   ]
  },
  {
   "cell_type": "code",
   "execution_count": null,
   "id": "6e94beb9",
   "metadata": {},
   "outputs": [],
   "source": [
    "def pnl_Comparison():\n",
    "    index_PnL = df['index_P&L'].sum()\n",
    "    index_PnL_Percentage = (index_PnL/invested_val)*100\n",
    "    print(\"Invest Value\", invested_val)\n",
    "    print(\"Stock P&L\",present_val)\n",
    "    print(\"Index P&L\",index_PnL)\n",
    "    print(\"Stock P&L Percentage\",unrealised_percentage)\n",
    "    print(\"Index P&L Percentage\",index_PnL_Percentage)"
   ]
  },
  {
   "cell_type": "code",
   "execution_count": null,
   "id": "9e836412",
   "metadata": {},
   "outputs": [],
   "source": [
    "pnl_Comparison()"
   ]
  },
  {
   "cell_type": "code",
   "execution_count": null,
   "id": "57146a83",
   "metadata": {},
   "outputs": [],
   "source": []
  }
 ],
 "metadata": {
  "kernelspec": {
   "display_name": "Python 3 (ipykernel)",
   "language": "python",
   "name": "python3"
  },
  "language_info": {
   "codemirror_mode": {
    "name": "ipython",
    "version": 3
   },
   "file_extension": ".py",
   "mimetype": "text/x-python",
   "name": "python",
   "nbconvert_exporter": "python",
   "pygments_lexer": "ipython3",
   "version": "3.10.8"
  }
 },
 "nbformat": 4,
 "nbformat_minor": 5
}
