{
 "cells": [
  {
   "cell_type": "code",
   "execution_count": 1,
   "id": "a9795099",
   "metadata": {},
   "outputs": [],
   "source": [
    "import os\n",
    "import glob\n",
    "import pandas as pd\n",
    "import yfinance as yf\n",
    "from datetime import timedelta, datetime"
   ]
  },
  {
   "cell_type": "code",
   "execution_count": 2,
   "id": "f73cc711",
   "metadata": {},
   "outputs": [],
   "source": [
    "df = pd.DataFrame()\n",
    "require_cols = ['Symbol', 'Trade Date','Trade Type','Quantity','Price','Order ID','Order Execution Time']"
   ]
  },
  {
   "cell_type": "code",
   "execution_count": 3,
   "id": "c93238a1",
   "metadata": {},
   "outputs": [
    {
     "name": "stderr",
     "output_type": "stream",
     "text": [
      "C:\\Users\\abhij\\AppData\\Local\\Temp\\ipykernel_2900\\1290121858.py:3: FutureWarning: The frame.append method is deprecated and will be removed from pandas in a future version. Use pandas.concat instead.\n",
      "  df = df.append(data,ignore_index=True)\n"
     ]
    }
   ],
   "source": [
    "for f in glob.glob(\"tradesbook_exports/*.xlsx\"):\n",
    "    data = pd.read_excel(f, skiprows = 14, usecols = require_cols)\n",
    "    df = df.append(data,ignore_index=True)\n",
    "df.drop_duplicates('Order ID', inplace=True)\n",
    "#df = df.drop(df[df['Trade Type'] == 'sell'].index)\n",
    "df.reset_index(inplace=True)"
   ]
  },
  {
   "cell_type": "code",
   "execution_count": 4,
   "id": "322159e2",
   "metadata": {},
   "outputs": [],
   "source": [
    "def find_indexPrice(date_,symbol):\n",
    "    tradeDate=str(date_)\n",
    "    ticker=symbol+'.NS'\n",
    "    print(ticker)\n",
    "    format = '%Y-%m-%d'\n",
    "    start = datetime.strptime(tradeDate, format)\n",
    "    end = start + timedelta(days=1)\n",
    "    index_Price= yf.download('NIFTYBEES.NS',start,end)['Adj Close'].astype(int)\n",
    "    try:\n",
    "        LTP = yf.Ticker(ticker).history(period='1d')\n",
    "        stock_LTP = LTP['Close'][0]\n",
    "    except IndexError:\n",
    "        try:\n",
    "            LTP = yf.Ticker(ticker).history(period='3d')\n",
    "            stock_LTP = LTP['Close'][0]\n",
    "        except IndexError:\n",
    "            stock_LTP = 0\n",
    "    return index_Price[0],stock_LTP"
   ]
  },
  {
   "cell_type": "code",
   "execution_count": 5,
   "id": "4a678ada",
   "metadata": {},
   "outputs": [
    {
     "name": "stdout",
     "output_type": "stream",
     "text": [
      "WIPRO.NS\n",
      "[*********************100%***********************]  1 of 1 completed\n",
      "SUBEX.NS\n",
      "[*********************100%***********************]  1 of 1 completed\n",
      "SUBEX.NS: No data found, symbol may be delisted\n",
      "SUBEX.NS: No data found, symbol may be delisted\n",
      "WIPRO.NS\n",
      "[*********************100%***********************]  1 of 1 completed\n",
      "CAMS.NS\n",
      "[*********************100%***********************]  1 of 1 completed\n",
      "CAMS.NS\n",
      "[*********************100%***********************]  1 of 1 completed\n",
      "SBIN.NS\n",
      "[*********************100%***********************]  1 of 1 completed\n",
      "LT.NS\n",
      "[*********************100%***********************]  1 of 1 completed\n",
      "HDFCBANK.NS\n",
      "[*********************100%***********************]  1 of 1 completed\n",
      "M&M.NS\n",
      "[*********************100%***********************]  1 of 1 completed\n",
      "SBIN.NS\n",
      "[*********************100%***********************]  1 of 1 completed\n",
      "LT.NS\n",
      "[*********************100%***********************]  1 of 1 completed\n",
      "SBIN.NS\n",
      "[*********************100%***********************]  1 of 1 completed\n",
      "LT.NS\n",
      "[*********************100%***********************]  1 of 1 completed\n",
      "SBIN.NS\n",
      "[*********************100%***********************]  1 of 1 completed\n",
      "CDSL.NS\n",
      "[*********************100%***********************]  1 of 1 completed\n",
      "HDFCBANK.NS\n",
      "[*********************100%***********************]  1 of 1 completed\n",
      "ZOMATO.NS\n",
      "[*********************100%***********************]  1 of 1 completed\n",
      "UPL.NS\n",
      "[*********************100%***********************]  1 of 1 completed\n",
      "TCS.NS\n",
      "[*********************100%***********************]  1 of 1 completed\n",
      "TATASTEEL.NS\n",
      "[*********************100%***********************]  1 of 1 completed\n",
      "TATASTEEL.NS\n",
      "[*********************100%***********************]  1 of 1 completed\n",
      "    index     Symbol  Trade Date Trade Type  Quantity    Price  \\\n",
      "0       0      WIPRO  2022-01-27        buy         1   542.80   \n",
      "1       1      SUBEX  2022-02-01        buy        15    44.00   \n",
      "2       2      WIPRO  2022-02-01        buy        15   576.50   \n",
      "3       3       CAMS  2022-02-21        buy         1  2395.10   \n",
      "4       4       CAMS  2022-02-22        buy         1  2349.50   \n",
      "5       5       SBIN  2022-03-07        buy         1   449.70   \n",
      "6       6         LT  2022-03-07        buy         1  1658.20   \n",
      "7       7   HDFCBANK  2022-03-07        buy         1  1321.90   \n",
      "8       8        M&M  2022-03-07        buy         1   705.40   \n",
      "9       9       SBIN  2022-03-07        buy         2   445.25   \n",
      "10     10         LT  2022-03-07        buy         1  1625.75   \n",
      "11     11       SBIN  2022-03-07        buy         2   435.00   \n",
      "12     12         LT  2022-03-07        buy         1  1610.10   \n",
      "13     13       SBIN  2022-03-08        buy         1   425.10   \n",
      "14     14       CDSL  2022-05-04        buy         1  1268.30   \n",
      "15     16   HDFCBANK  2022-05-04        buy         1  1362.10   \n",
      "16     17     ZOMATO  2022-05-10        buy         2    55.05   \n",
      "17     18        UPL  2022-06-20        buy         1   645.10   \n",
      "18     19        TCS  2022-07-13        buy         1  3075.10   \n",
      "19     20  TATASTEEL  2022-11-28        buy         5   105.05   \n",
      "20     21  TATASTEEL  2022-12-23        buy         4   104.05   \n",
      "\n",
      "               Order ID Order Execution Time  index_ClosePrices    Stock_LTP  \n",
      "0   1643260841562176382  2022-01-27T11:24:35                185   407.899994  \n",
      "1   1643686200000072463  2022-02-01T09:15:00                189     0.000000  \n",
      "2   1643701726205780840  2022-02-01T15:10:49                189   407.899994  \n",
      "3   1645416476067136186  2022-02-21T09:41:06                186  2264.899902  \n",
      "4      1000000003161115  2022-02-22T09:38:53                185  2264.899902  \n",
      "5      1300000000241658  2022-03-07T09:15:05                172   544.200012  \n",
      "6      1200000000187470  2022-03-07T09:15:06                172  2166.550049  \n",
      "7      1100000000255548  2022-03-07T09:15:07                172  1658.800049  \n",
      "8      1200000000204243  2022-03-07T09:15:11                172  1388.000000  \n",
      "9      1300000003836402  2022-03-07T09:40:05                172   544.200012  \n",
      "10     1200000003792487  2022-03-07T09:40:38                172  2166.550049  \n",
      "11     1300000019438604  2022-03-07T14:01:52                172   544.200012  \n",
      "12     1200000020045834  2022-03-07T14:16:41                172  2166.550049  \n",
      "13     1300000016179133  2022-03-08T13:29:51                173   544.200012  \n",
      "14     1000000012553329  2022-05-04T12:44:40                181  1009.900024  \n",
      "15     1100000017416073  2022-05-04T14:12:14                181  1658.800049  \n",
      "16     1300000010544598  2022-05-10T11:36:08                176    48.750000  \n",
      "17  1655695800035169521  2022-06-20T09:42:02                167   715.700012  \n",
      "18     1300000004696121  2022-07-13T10:30:35                174  3482.300049  \n",
      "19     1300000001436365  2022-11-28T09:22:25                203   120.349998  \n",
      "20     1300000008272605  2022-12-23T10:21:39                195   120.349998  \n"
     ]
    }
   ],
   "source": [
    "index_ClosePrices,stock_LTP_Lst = [],[]\n",
    "for numb,row in df.iterrows():\n",
    "    index_Price,stock_LTP = find_indexPrice(row['Trade Date'],row['Symbol'])\n",
    "    index_ClosePrices.append(index_Price)\n",
    "    stock_LTP_Lst.append(stock_LTP)\n",
    "df[\"index_ClosePrices\"] = index_ClosePrices \n",
    "df[\"Stock_LTP\"] = stock_LTP_Lst \n",
    "print(df)\n",
    "df.to_excel(\"output.xlsx\")"
   ]
  },
  {
   "cell_type": "code",
   "execution_count": null,
   "id": "7a99609e",
   "metadata": {},
   "outputs": [],
   "source": []
  }
 ],
 "metadata": {
  "kernelspec": {
   "display_name": "Python 3 (ipykernel)",
   "language": "python",
   "name": "python3"
  },
  "language_info": {
   "codemirror_mode": {
    "name": "ipython",
    "version": 3
   },
   "file_extension": ".py",
   "mimetype": "text/x-python",
   "name": "python",
   "nbconvert_exporter": "python",
   "pygments_lexer": "ipython3",
   "version": "3.9.13"
  }
 },
 "nbformat": 4,
 "nbformat_minor": 5
}
