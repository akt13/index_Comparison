{
 "cells": [
  {
   "cell_type": "code",
   "execution_count": null,
   "id": "a9795099",
   "metadata": {},
   "outputs": [],
   "source": [
    "import os\n",
    "import openpyxl\n",
    "import pandas as pd\n",
    "import yfinance as yf\n",
    "from glob import glob\n",
    "from datetime import timedelta, datetime,date"
   ]
  },
  {
   "cell_type": "code",
   "execution_count": null,
   "id": "f73cc711",
   "metadata": {},
   "outputs": [],
   "source": [
    "df = pd.DataFrame()\n",
    "require_cols = ['Symbol', 'Trade Date','Trade Type','Quantity','Price','Order ID','Order Execution Time']"
   ]
  },
  {
   "cell_type": "code",
   "execution_count": null,
   "id": "c93238a1",
   "metadata": {},
   "outputs": [],
   "source": [
    "for f in glob(\"zerodha_exports/tradebook-*.xlsx\"):\n",
    "    data = pd.read_excel(f, skiprows = 14, usecols = require_cols)\n",
    "    df = df.append(data,ignore_index=True)\n",
    "df.drop_duplicates('Order ID', inplace=True)\n",
    "df = df.drop(df[df['Trade Type'] == 'sell'].index)\n",
    "df.reset_index(inplace=True)\n",
    "holdings_file = glob((\"zerodha_exports/holdings-*.xlsx\"))\n",
    "wb = openpyxl.load_workbook(holdings_file[0])\n",
    "sh = wb.active\n",
    "invested_val = sh['C15'].value\n",
    "present_val = sh['C16'].value\n",
    "unrealised_percentage = sh['C18'].value\n",
    "df_holding = pd.read_excel(holdings_file[0], skiprows= 22 , usecols = ['Symbol','Average Price'])"
   ]
  },
  {
   "cell_type": "code",
   "execution_count": null,
   "id": "322159e2",
   "metadata": {},
   "outputs": [],
   "source": [
    "def find_indexPrice(row):\n",
    "    tradeDate=str(row['Trade Date'])\n",
    "    ticker=row['Symbol'] +'.NS'\n",
    "    print(ticker)\n",
    "    format = '%Y-%m-%d'\n",
    "    start = datetime.strptime(tradeDate, format)\n",
    "    end = start + timedelta(days=1)\n",
    "    index_Price= yf.download('NIFTYBEES.NS',start,end)['Adj Close'].astype(int)\n",
    "    print(index_Price[0])\n",
    "    return index_Price[0]"
   ]
  },
  {
   "cell_type": "code",
   "execution_count": null,
   "id": "4a678ada",
   "metadata": {},
   "outputs": [],
   "source": [
    "index_ClosePrices,stock_LTP_Lst = [],[]\n",
    "for numb,row in df.iterrows():\n",
    "    index_Price = find_indexPrice(row)\n",
    "    index_ClosePrices.append(index_Price)\n",
    "df[\"index_ClosePrices\"] = index_ClosePrices "
   ]
  },
  {
   "cell_type": "code",
   "execution_count": null,
   "id": "1f2cb834",
   "metadata": {},
   "outputs": [],
   "source": [
    "LTP_index = yf.Ticker('NIFTYBEES.NS').history(period='1d')\n",
    "index_LTP = LTP_index['Close'][0]\n",
    "\n",
    "investVal_Lst,indexPnL_Lst = [],[]\n",
    "def find_PnL(row):\n",
    "    invest_Val = row['Price']*row['Quantity']\n",
    "    indexCurrent_Val = index_LTP*(invest_Val/row['index_ClosePrices'])\n",
    "    index_PnL = indexCurrent_Val - invest_Val\n",
    "    return invest_Val, index_PnL"
   ]
  },
  {
   "cell_type": "code",
   "execution_count": null,
   "id": "7a99609e",
   "metadata": {},
   "outputs": [],
   "source": [
    "for x,row in df.iterrows():\n",
    "    invest_Val, index_PnL = find_PnL(row)\n",
    "    investVal_Lst.append(invest_Val)\n",
    "    indexPnL_Lst.append(index_PnL)\n",
    "df[\"invest_Value\"] = investVal_Lst \n",
    "df[\"index_P&L\"] = indexPnL_Lst\n",
    "print(df)"
   ]
  },
  {
   "cell_type": "code",
   "execution_count": null,
   "id": "6e94beb9",
   "metadata": {},
   "outputs": [],
   "source": [
    "def pnl_Comparison():\n",
    "    index_PnL = df['index_P&L'].sum()\n",
    "    index_PnL_Percentage = (index_PnL/invested_val)*100\n",
    "    print(\"Invest Value\", invested_val)\n",
    "    print(\"Stock P&L\",present_val)\n",
    "    print(\"Index P&L\",index_PnL)\n",
    "    print(\"Stock P&L Percentage\",unrealised_percentage)\n",
    "    print(\"Index P&L Percentage\",index_PnL_Percentage)"
   ]
  },
  {
   "cell_type": "code",
   "execution_count": null,
   "id": "9e836412",
   "metadata": {},
   "outputs": [],
   "source": [
    "pnl_Comparison()"
   ]
  },
  {
   "cell_type": "code",
   "execution_count": null,
   "id": "1534eea4",
   "metadata": {},
   "outputs": [],
   "source": [
    "def portfolio_Change(row):\n",
    "    # Get historical data for the past 135 days\n",
    "    end_date = date.today()\n",
    "    start_date = end_date - timedelta(days=200)\n",
    "    ticker=row['Symbol'] +'.NS'\n",
    "    data = yf.download(ticker, start=start_date, end=end_date)\n",
    "\n",
    "    # Calculate the price change percentage for the last x days\n",
    "    one_days_data = data.tail(2)\n",
    "    three_days_data = data.tail(4)\n",
    "    seven_days_data = data.tail(8)\n",
    "    fourteen_days_data = data.tail(15)\n",
    "    thirty_days_data = data.tail(31)\n",
    "    \n",
    "    one_days_close = one_days_data['Close']\n",
    "    one_days_change = ((one_days_close.iloc[1] - row['Average Price'])/ row['Average Price']) * 100\n",
    "    \n",
    "    three_days_close = three_days_data['Close']\n",
    "    three_days_change = ((three_days_close.iloc[1] - row['Average Price'])/ row['Average Price']) * 100\n",
    "    \n",
    "    seven_days_close = seven_days_data['Close']\n",
    "    seven_days_change = ((seven_days_close.iloc[1] - row['Average Price'])/ row['Average Price']) * 100\n",
    "    \n",
    "    fourteen_days_close = fourteen_days_data['Close']\n",
    "    fourteen_days_change = ((fourteen_days_close.iloc[1] - row['Average Price'])/ row['Average Price']) * 100\n",
    "    \n",
    "    thirty_days_close = thirty_days_data['Close']\n",
    "    thirty_days_change = ((thirty_days_close.iloc[1] - row['Average Price'])/ row['Average Price']) * 100\n",
    "    \n",
    "    return one_days_change,three_days_change, seven_days_change, fourteen_days_change, thirty_days_change"
   ]
  },
  {
   "cell_type": "code",
   "execution_count": null,
   "id": "c6ee9879",
   "metadata": {},
   "outputs": [],
   "source": [
    "oneDay_lst, threeDay_lst,sevenDay_lst,fourteenDay_lst,thirtyDay_lst = [],[],[],[],[]\n",
    "for x,row in df_holding.iterrows():\n",
    "    one_days_change,three_days_change, seven_days_change, fourteen_days_change, thirty_days_change = portfolio_Change(row)\n",
    "    oneDay_lst.append(one_days_change)\n",
    "    threeDay_lst.append(three_days_change)\n",
    "    sevenDay_lst.append(seven_days_change)\n",
    "    fourteenDay_lst.append(fourteen_days_change)\n",
    "    thirtyDay_lst.append(thirty_days_change)\n",
    "df_holding[\"OneDay_Change\"] = oneDay_lst \n",
    "df_holding[\"ThreeDay_Change\"] = threeDay_lst \n",
    "df_holding[\"SevenDay_Change\"] = sevenDay_lst \n",
    "df_holding[\"FourteenDay_Change\"] = fourteenDay_lst \n",
    "df_holding[\"ThirtyDay_Change\"] = thirtyDay_lst \n",
    "df_holding.to_excel(\"output.xlsx\")\n",
    "\n",
    "df_holding = df_holding.sort_values(by=['OneDay_Change'], ascending=False)\n",
    "print('Top 5 stocks in up-trend from last 1 day')\n",
    "print(df_holding[['Symbol', 'OneDay_Change']].head(5))\n",
    "print('-------------------------------------------')\n",
    "print('Top 5 stocks in down-trend from last 1 day')\n",
    "print(df_holding[['Symbol', 'OneDay_Change']].tail(5))\n",
    "print('-------------------------------------------')\n",
    "print('-------------------------------------------')\n",
    "\n",
    "df_holding = df_holding.sort_values(by=['ThreeDay_Change'], ascending=False)\n",
    "print('Top 5 stocks in up-trend from last 3 day')\n",
    "print(df_holding[['Symbol', 'ThreeDay_Change']].head(5))\n",
    "print('-------------------------------------------')\n",
    "print('Top 5 stocks in down-trend from last 3 day')\n",
    "print(df_holding[['Symbol', 'ThreeDay_Change']].tail(5))\n",
    "print('-------------------------------------------')"
   ]
  },
  {
   "cell_type": "code",
   "execution_count": null,
   "id": "95391a3e",
   "metadata": {},
   "outputs": [],
   "source": []
  },
  {
   "cell_type": "code",
   "execution_count": null,
   "id": "23b75f04",
   "metadata": {},
   "outputs": [],
   "source": []
  }
 ],
 "metadata": {
  "kernelspec": {
   "display_name": "Python 3 (ipykernel)",
   "language": "python",
   "name": "python3"
  },
  "language_info": {
   "codemirror_mode": {
    "name": "ipython",
    "version": 3
   },
   "file_extension": ".py",
   "mimetype": "text/x-python",
   "name": "python",
   "nbconvert_exporter": "python",
   "pygments_lexer": "ipython3",
   "version": "3.10.8"
  }
 },
 "nbformat": 4,
 "nbformat_minor": 5
}
