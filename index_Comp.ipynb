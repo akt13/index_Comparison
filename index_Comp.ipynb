{
 "cells": [
  {
   "cell_type": "code",
   "execution_count": 1,
   "id": "9f8b1e51",
   "metadata": {},
   "outputs": [],
   "source": [
    "import os\n",
    "import glob\n",
    "import pandas as pd"
   ]
  },
  {
   "cell_type": "code",
   "execution_count": 2,
   "id": "3b597e79",
   "metadata": {
    "scrolled": true
   },
   "outputs": [],
   "source": [
    "df = pd.DataFrame()"
   ]
  },
  {
   "cell_type": "code",
   "execution_count": 3,
   "id": "e1554d82",
   "metadata": {},
   "outputs": [],
   "source": [
    "require_cols = ['Symbol', 'Trade Date','Trade Type','Quantity','Price','Order ID','Order Execution Time']"
   ]
  },
  {
   "cell_type": "code",
   "execution_count": 4,
   "id": "f5e6f948",
   "metadata": {},
   "outputs": [
    {
     "name": "stderr",
     "output_type": "stream",
     "text": [
      "C:\\Users\\abhij\\AppData\\Local\\Temp\\ipykernel_6248\\4142425441.py:3: FutureWarning: The frame.append method is deprecated and will be removed from pandas in a future version. Use pandas.concat instead.\n",
      "  df = df.append(data,ignore_index=True)\n",
      "C:\\Users\\abhij\\AppData\\Local\\Temp\\ipykernel_6248\\4142425441.py:3: FutureWarning: The frame.append method is deprecated and will be removed from pandas in a future version. Use pandas.concat instead.\n",
      "  df = df.append(data,ignore_index=True)\n"
     ]
    }
   ],
   "source": [
    "for f in glob.glob(\"tradesbook_exports/*.xlsx\"):\n",
    "    data = pd.read_excel(f, skiprows = 14, usecols = require_cols)\n",
    "    df = df.append(data,ignore_index=True)\n",
    "df.drop_duplicates('Order ID', inplace=True)\n",
    "df = df.drop(df[df['Trade Type'] == 'sell'].index)\n",
    "df.reset_index(inplace=True)\n",
    "#df.to_excel(\"output.xlsx\")"
   ]
  },
  {
   "cell_type": "code",
   "execution_count": 6,
   "id": "1b09a1f6",
   "metadata": {},
   "outputs": [
    {
     "name": "stdout",
     "output_type": "stream",
     "text": [
      "start1: 2021-02-26 00:00:00 end1: 2021-02-27 00:00:00\n"
     ]
    }
   ],
   "source": [
    "datatypes = df.dtypes\n",
    "#print(datatypes)\n",
    "from datetime import timedelta, datetime\n",
    "df['Trade Date'] = df['Trade Date'].astype(str)\n",
    "datatypes = df.dtypes\n",
    "x=df['Trade Date'].iloc[2]\n",
    "type(x)\n",
    "format = '%Y-%m-%d'  # The format\n",
    "start1 = datetime.strptime(x, format)\n",
    "end1 = start1 + timedelta(days=1)\n",
    "print('start1:',start1, 'end1:', end1)"
   ]
  },
  {
   "cell_type": "code",
   "execution_count": 7,
   "id": "7fd6ad29",
   "metadata": {},
   "outputs": [
    {
     "data": {
      "text/plain": [
       "135888.06000000003"
      ]
     },
     "execution_count": 7,
     "metadata": {},
     "output_type": "execute_result"
    }
   ],
   "source": [
    "current_val = (df['Quantity'] * df['Price']).sum()\n",
    "current_val"
   ]
  },
  {
   "cell_type": "code",
   "execution_count": 17,
   "id": "4986c424",
   "metadata": {
    "scrolled": true
   },
   "outputs": [
    {
     "name": "stdout",
     "output_type": "stream",
     "text": [
      "[*********************100%***********************]  1 of 1 completed\n",
      "\n",
      "1 Failed download:\n",
      "- SUBEX.NS: No timezone found, symbol may be delisted\n",
      "Series([], Name: Adj Close, dtype: int32)\n"
     ]
    },
    {
     "ename": "IndexError",
     "evalue": "index 0 is out of bounds for axis 0 with size 0",
     "output_type": "error",
     "traceback": [
      "\u001b[1;31m---------------------------------------------------------------------------\u001b[0m",
      "\u001b[1;31mIndexError\u001b[0m                                Traceback (most recent call last)",
      "\u001b[1;32m~\\AppData\\Local\\Temp\\ipykernel_15544\\171648055.py\u001b[0m in \u001b[0;36m<module>\u001b[1;34m\u001b[0m\n\u001b[0;32m     13\u001b[0m \u001b[0mprint\u001b[0m\u001b[1;33m(\u001b[0m\u001b[0mdata\u001b[0m\u001b[1;33m)\u001b[0m\u001b[1;33m\u001b[0m\u001b[1;33m\u001b[0m\u001b[0m\n\u001b[0;32m     14\u001b[0m \u001b[1;33m\u001b[0m\u001b[0m\n\u001b[1;32m---> 15\u001b[1;33m \u001b[0mprint\u001b[0m\u001b[1;33m(\u001b[0m\u001b[0mdata\u001b[0m\u001b[1;33m[\u001b[0m\u001b[1;36m0\u001b[0m\u001b[1;33m]\u001b[0m\u001b[1;33m)\u001b[0m\u001b[1;33m\u001b[0m\u001b[1;33m\u001b[0m\u001b[0m\n\u001b[0m\u001b[0;32m     16\u001b[0m \u001b[1;31m#print(df2)\u001b[0m\u001b[1;33m\u001b[0m\u001b[1;33m\u001b[0m\u001b[0m\n\u001b[0;32m     17\u001b[0m \u001b[1;31m#print(type(data))\u001b[0m\u001b[1;33m\u001b[0m\u001b[1;33m\u001b[0m\u001b[0m\n",
      "\u001b[1;32mC:\\ProgramData\\Anaconda3\\lib\\site-packages\\pandas\\core\\series.py\u001b[0m in \u001b[0;36m__getitem__\u001b[1;34m(self, key)\u001b[0m\n\u001b[0;32m    953\u001b[0m \u001b[1;33m\u001b[0m\u001b[0m\n\u001b[0;32m    954\u001b[0m         \u001b[1;32mif\u001b[0m \u001b[0mis_integer\u001b[0m\u001b[1;33m(\u001b[0m\u001b[0mkey\u001b[0m\u001b[1;33m)\u001b[0m \u001b[1;32mand\u001b[0m \u001b[0mself\u001b[0m\u001b[1;33m.\u001b[0m\u001b[0mindex\u001b[0m\u001b[1;33m.\u001b[0m\u001b[0m_should_fallback_to_positional\u001b[0m\u001b[1;33m:\u001b[0m\u001b[1;33m\u001b[0m\u001b[1;33m\u001b[0m\u001b[0m\n\u001b[1;32m--> 955\u001b[1;33m             \u001b[1;32mreturn\u001b[0m \u001b[0mself\u001b[0m\u001b[1;33m.\u001b[0m\u001b[0m_values\u001b[0m\u001b[1;33m[\u001b[0m\u001b[0mkey\u001b[0m\u001b[1;33m]\u001b[0m\u001b[1;33m\u001b[0m\u001b[1;33m\u001b[0m\u001b[0m\n\u001b[0m\u001b[0;32m    956\u001b[0m \u001b[1;33m\u001b[0m\u001b[0m\n\u001b[0;32m    957\u001b[0m         \u001b[1;32melif\u001b[0m \u001b[0mkey_is_scalar\u001b[0m\u001b[1;33m:\u001b[0m\u001b[1;33m\u001b[0m\u001b[1;33m\u001b[0m\u001b[0m\n",
      "\u001b[1;31mIndexError\u001b[0m: index 0 is out of bounds for axis 0 with size 0"
     ]
    }
   ],
   "source": [
    "import pandas as pd\n",
    "from datetime import datetime\n",
    "tickers_list = ['SUBEX.NS']\n",
    "\n",
    "# Fetch the data\n",
    "import yfinance as yf\n",
    "start = datetime(2022,2,2)\n",
    "end = datetime(2022, 2, 3)\n",
    "data = yf.download(tickers_list,start,end)['Adj Close'].astype(int)\n",
    "df2 = data.to_frame()\n",
    "\n",
    "# Print first 5 rows of the data\n",
    "print(data)\n",
    "\n",
    "print(data[0])\n",
    "#print(df2)\n",
    "#print(type(data))"
   ]
  },
  {
   "cell_type": "code",
   "execution_count": 11,
   "id": "80f8c2c7",
   "metadata": {},
   "outputs": [
    {
     "name": "stdout",
     "output_type": "stream",
     "text": [
      "[*********************100%***********************]  1 of 1 completed\n"
     ]
    },
    {
     "data": {
      "text/html": [
       "<div>\n",
       "<style scoped>\n",
       "    .dataframe tbody tr th:only-of-type {\n",
       "        vertical-align: middle;\n",
       "    }\n",
       "\n",
       "    .dataframe tbody tr th {\n",
       "        vertical-align: top;\n",
       "    }\n",
       "\n",
       "    .dataframe thead th {\n",
       "        text-align: right;\n",
       "    }\n",
       "</style>\n",
       "<table border=\"1\" class=\"dataframe\">\n",
       "  <thead>\n",
       "    <tr style=\"text-align: right;\">\n",
       "      <th></th>\n",
       "      <th>index</th>\n",
       "      <th>Symbol</th>\n",
       "      <th>Trade Date</th>\n",
       "      <th>Trade Type</th>\n",
       "      <th>Quantity</th>\n",
       "      <th>Price</th>\n",
       "      <th>Order ID</th>\n",
       "      <th>Order Execution Time</th>\n",
       "      <th>index_val</th>\n",
       "    </tr>\n",
       "  </thead>\n",
       "  <tbody>\n",
       "    <tr>\n",
       "      <th>0</th>\n",
       "      <td>0</td>\n",
       "      <td>RELIANCE</td>\n",
       "      <td>2021-01-29</td>\n",
       "      <td>buy</td>\n",
       "      <td>2</td>\n",
       "      <td>1860.15</td>\n",
       "      <td>1300000019843443</td>\n",
       "      <td>2021-01-29T14:59:48</td>\n",
       "      <td>156</td>\n",
       "    </tr>\n",
       "    <tr>\n",
       "      <th>1</th>\n",
       "      <td>1</td>\n",
       "      <td>AXISGOLD</td>\n",
       "      <td>2021-02-18</td>\n",
       "      <td>buy</td>\n",
       "      <td>2</td>\n",
       "      <td>40.52</td>\n",
       "      <td>1000000010123397</td>\n",
       "      <td>2021-02-18T12:07:53</td>\n",
       "      <td>156</td>\n",
       "    </tr>\n",
       "    <tr>\n",
       "      <th>2</th>\n",
       "      <td>2</td>\n",
       "      <td>ITC</td>\n",
       "      <td>2021-02-26</td>\n",
       "      <td>buy</td>\n",
       "      <td>2</td>\n",
       "      <td>205.15</td>\n",
       "      <td>1100000014575516</td>\n",
       "      <td>2021-02-26T12:36:00</td>\n",
       "      <td>156</td>\n",
       "    </tr>\n",
       "    <tr>\n",
       "      <th>3</th>\n",
       "      <td>3</td>\n",
       "      <td>M&amp;M</td>\n",
       "      <td>2021-02-26</td>\n",
       "      <td>buy</td>\n",
       "      <td>1</td>\n",
       "      <td>808.50</td>\n",
       "      <td>1200000017227310</td>\n",
       "      <td>2021-02-26T13:31:12</td>\n",
       "      <td>156</td>\n",
       "    </tr>\n",
       "    <tr>\n",
       "      <th>4</th>\n",
       "      <td>4</td>\n",
       "      <td>BANKBEES</td>\n",
       "      <td>2021-03-05</td>\n",
       "      <td>buy</td>\n",
       "      <td>1</td>\n",
       "      <td>355.65</td>\n",
       "      <td>1000000000224677</td>\n",
       "      <td>2021-03-05T09:15:08</td>\n",
       "      <td>156</td>\n",
       "    </tr>\n",
       "    <tr>\n",
       "      <th>...</th>\n",
       "      <td>...</td>\n",
       "      <td>...</td>\n",
       "      <td>...</td>\n",
       "      <td>...</td>\n",
       "      <td>...</td>\n",
       "      <td>...</td>\n",
       "      <td>...</td>\n",
       "      <td>...</td>\n",
       "      <td>...</td>\n",
       "    </tr>\n",
       "    <tr>\n",
       "      <th>146</th>\n",
       "      <td>152</td>\n",
       "      <td>ZOMATO</td>\n",
       "      <td>2022-05-10</td>\n",
       "      <td>buy</td>\n",
       "      <td>2</td>\n",
       "      <td>55.05</td>\n",
       "      <td>1300000010544598</td>\n",
       "      <td>2022-05-10T11:36:08</td>\n",
       "      <td>156</td>\n",
       "    </tr>\n",
       "    <tr>\n",
       "      <th>147</th>\n",
       "      <td>153</td>\n",
       "      <td>UPL</td>\n",
       "      <td>2022-06-20</td>\n",
       "      <td>buy</td>\n",
       "      <td>1</td>\n",
       "      <td>645.10</td>\n",
       "      <td>1655695800035169521</td>\n",
       "      <td>2022-06-20T09:42:02</td>\n",
       "      <td>156</td>\n",
       "    </tr>\n",
       "    <tr>\n",
       "      <th>148</th>\n",
       "      <td>154</td>\n",
       "      <td>TCS</td>\n",
       "      <td>2022-07-13</td>\n",
       "      <td>buy</td>\n",
       "      <td>1</td>\n",
       "      <td>3075.10</td>\n",
       "      <td>1300000004696121</td>\n",
       "      <td>2022-07-13T10:30:35</td>\n",
       "      <td>156</td>\n",
       "    </tr>\n",
       "    <tr>\n",
       "      <th>149</th>\n",
       "      <td>155</td>\n",
       "      <td>TATASTEEL</td>\n",
       "      <td>2022-11-28</td>\n",
       "      <td>buy</td>\n",
       "      <td>5</td>\n",
       "      <td>105.05</td>\n",
       "      <td>1300000001436365</td>\n",
       "      <td>2022-11-28T09:22:25</td>\n",
       "      <td>156</td>\n",
       "    </tr>\n",
       "    <tr>\n",
       "      <th>150</th>\n",
       "      <td>156</td>\n",
       "      <td>TATASTEEL</td>\n",
       "      <td>2022-12-23</td>\n",
       "      <td>buy</td>\n",
       "      <td>4</td>\n",
       "      <td>104.05</td>\n",
       "      <td>1300000008272605</td>\n",
       "      <td>2022-12-23T10:21:39</td>\n",
       "      <td>156</td>\n",
       "    </tr>\n",
       "  </tbody>\n",
       "</table>\n",
       "<p>151 rows × 9 columns</p>\n",
       "</div>"
      ],
      "text/plain": [
       "     index     Symbol  Trade Date Trade Type  Quantity    Price  \\\n",
       "0        0   RELIANCE  2021-01-29        buy         2  1860.15   \n",
       "1        1   AXISGOLD  2021-02-18        buy         2    40.52   \n",
       "2        2        ITC  2021-02-26        buy         2   205.15   \n",
       "3        3        M&M  2021-02-26        buy         1   808.50   \n",
       "4        4   BANKBEES  2021-03-05        buy         1   355.65   \n",
       "..     ...        ...         ...        ...       ...      ...   \n",
       "146    152     ZOMATO  2022-05-10        buy         2    55.05   \n",
       "147    153        UPL  2022-06-20        buy         1   645.10   \n",
       "148    154        TCS  2022-07-13        buy         1  3075.10   \n",
       "149    155  TATASTEEL  2022-11-28        buy         5   105.05   \n",
       "150    156  TATASTEEL  2022-12-23        buy         4   104.05   \n",
       "\n",
       "                Order ID Order Execution Time  index_val  \n",
       "0       1300000019843443  2021-01-29T14:59:48        156  \n",
       "1       1000000010123397  2021-02-18T12:07:53        156  \n",
       "2       1100000014575516  2021-02-26T12:36:00        156  \n",
       "3       1200000017227310  2021-02-26T13:31:12        156  \n",
       "4       1000000000224677  2021-03-05T09:15:08        156  \n",
       "..                   ...                  ...        ...  \n",
       "146     1300000010544598  2022-05-10T11:36:08        156  \n",
       "147  1655695800035169521  2022-06-20T09:42:02        156  \n",
       "148     1300000004696121  2022-07-13T10:30:35        156  \n",
       "149     1300000001436365  2022-11-28T09:22:25        156  \n",
       "150     1300000008272605  2022-12-23T10:21:39        156  \n",
       "\n",
       "[151 rows x 9 columns]"
      ]
     },
     "execution_count": 11,
     "metadata": {},
     "output_type": "execute_result"
    }
   ],
   "source": [
    "index_LTP= yf.download(tickers_list,start1,end1)['Adj Close'].astype(int)\n",
    "df['index_val'] = index_LTP[0]\n",
    "df"
   ]
  },
  {
   "cell_type": "code",
   "execution_count": 15,
   "id": "04515b14",
   "metadata": {},
   "outputs": [
    {
     "name": "stdout",
     "output_type": "stream",
     "text": [
      "SUBEX.NS: No data found, symbol may be delisted\n"
     ]
    },
    {
     "ename": "IndexError",
     "evalue": "index 0 is out of bounds for axis 0 with size 0",
     "output_type": "error",
     "traceback": [
      "\u001b[1;31m---------------------------------------------------------------------------\u001b[0m",
      "\u001b[1;31mIndexError\u001b[0m                                Traceback (most recent call last)",
      "\u001b[1;32m~\\AppData\\Local\\Temp\\ipykernel_15544\\3849850821.py\u001b[0m in \u001b[0;36m<module>\u001b[1;34m\u001b[0m\n\u001b[0;32m      1\u001b[0m \u001b[0mLTP\u001b[0m \u001b[1;33m=\u001b[0m \u001b[0myf\u001b[0m\u001b[1;33m.\u001b[0m\u001b[0mTicker\u001b[0m\u001b[1;33m(\u001b[0m\u001b[1;34m'SUBEX.NS'\u001b[0m\u001b[1;33m)\u001b[0m\u001b[1;33m.\u001b[0m\u001b[0mhistory\u001b[0m\u001b[1;33m(\u001b[0m\u001b[0mperiod\u001b[0m\u001b[1;33m=\u001b[0m\u001b[1;34m'20d'\u001b[0m\u001b[1;33m)\u001b[0m\u001b[1;33m\u001b[0m\u001b[1;33m\u001b[0m\u001b[0m\n\u001b[1;32m----> 2\u001b[1;33m \u001b[0mstock_LTP\u001b[0m \u001b[1;33m=\u001b[0m \u001b[0mLTP\u001b[0m\u001b[1;33m[\u001b[0m\u001b[1;34m'Close'\u001b[0m\u001b[1;33m]\u001b[0m\u001b[1;33m[\u001b[0m\u001b[1;36m0\u001b[0m\u001b[1;33m]\u001b[0m\u001b[1;33m\u001b[0m\u001b[1;33m\u001b[0m\u001b[0m\n\u001b[0m\u001b[0;32m      3\u001b[0m \u001b[0mprint\u001b[0m\u001b[1;33m(\u001b[0m\u001b[0mstock_LTP\u001b[0m\u001b[1;33m)\u001b[0m\u001b[1;33m\u001b[0m\u001b[1;33m\u001b[0m\u001b[0m\n",
      "\u001b[1;32mC:\\ProgramData\\Anaconda3\\lib\\site-packages\\pandas\\core\\series.py\u001b[0m in \u001b[0;36m__getitem__\u001b[1;34m(self, key)\u001b[0m\n\u001b[0;32m    953\u001b[0m \u001b[1;33m\u001b[0m\u001b[0m\n\u001b[0;32m    954\u001b[0m         \u001b[1;32mif\u001b[0m \u001b[0mis_integer\u001b[0m\u001b[1;33m(\u001b[0m\u001b[0mkey\u001b[0m\u001b[1;33m)\u001b[0m \u001b[1;32mand\u001b[0m \u001b[0mself\u001b[0m\u001b[1;33m.\u001b[0m\u001b[0mindex\u001b[0m\u001b[1;33m.\u001b[0m\u001b[0m_should_fallback_to_positional\u001b[0m\u001b[1;33m:\u001b[0m\u001b[1;33m\u001b[0m\u001b[1;33m\u001b[0m\u001b[0m\n\u001b[1;32m--> 955\u001b[1;33m             \u001b[1;32mreturn\u001b[0m \u001b[0mself\u001b[0m\u001b[1;33m.\u001b[0m\u001b[0m_values\u001b[0m\u001b[1;33m[\u001b[0m\u001b[0mkey\u001b[0m\u001b[1;33m]\u001b[0m\u001b[1;33m\u001b[0m\u001b[1;33m\u001b[0m\u001b[0m\n\u001b[0m\u001b[0;32m    956\u001b[0m \u001b[1;33m\u001b[0m\u001b[0m\n\u001b[0;32m    957\u001b[0m         \u001b[1;32melif\u001b[0m \u001b[0mkey_is_scalar\u001b[0m\u001b[1;33m:\u001b[0m\u001b[1;33m\u001b[0m\u001b[1;33m\u001b[0m\u001b[0m\n",
      "\u001b[1;31mIndexError\u001b[0m: index 0 is out of bounds for axis 0 with size 0"
     ]
    }
   ],
   "source": [
    "LTP = yf.Ticker('SUBEX.NS').history(period='20d')\n",
    "stock_LTP = LTP['Close'][0]\n",
    "print(stock_LTP)"
   ]
  },
  {
   "cell_type": "code",
   "execution_count": null,
   "id": "c7fdec67",
   "metadata": {},
   "outputs": [],
   "source": []
  }
 ],
 "metadata": {
  "kernelspec": {
   "display_name": "Python 3 (ipykernel)",
   "language": "python",
   "name": "python3"
  },
  "language_info": {
   "codemirror_mode": {
    "name": "ipython",
    "version": 3
   },
   "file_extension": ".py",
   "mimetype": "text/x-python",
   "name": "python",
   "nbconvert_exporter": "python",
   "pygments_lexer": "ipython3",
   "version": "3.9.13"
  }
 },
 "nbformat": 4,
 "nbformat_minor": 5
}
